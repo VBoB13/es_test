{
 "cells": [
  {
   "cell_type": "markdown",
   "id": "31efe169",
   "metadata": {},
   "source": [
    "# Elasticsearch"
   ]
  },
  {
   "cell_type": "markdown",
   "id": "5539ade0",
   "metadata": {},
   "source": [
    "## INSTALLATION\n",
    "### DO NOT TRY TO RUN THESE CELLS .... ITS BASH -.-'"
   ]
  },
  {
   "cell_type": "markdown",
   "id": "4fdb792f",
   "metadata": {},
   "source": [
    "After setting up your environment, install Elasticsearch onto the computer with:"
   ]
  },
  {
   "cell_type": "code",
   "execution_count": null,
   "id": "c8a382e3",
   "metadata": {},
   "outputs": [],
   "source": [
    "curl -O https://artifacts.elastic.co/downloads/elasticsearch/elasticsearch-8.4.2-darwin-x86_64.tar.gz\n",
    "curl https://artifacts.elastic.co/downloads/elasticsearch/elasticsearch-8.4.2-darwin-x86_64.tar.gz.sha512 | shasum -a 512 -c - \n",
    "tar -xzf elasticsearch-8.4.2-darwin-x86_64.tar.gz\n",
    "cd elasticsearch-8.4.2/"
   ]
  },
  {
   "cell_type": "markdown",
   "id": "ef51cc31",
   "metadata": {},
   "source": [
    "For convenience, set the $ES_HOME environment variable to:"
   ]
  },
  {
   "cell_type": "code",
   "execution_count": null,
   "id": "0d52b9bd",
   "metadata": {},
   "outputs": [],
   "source": [
    "export ES_HOME=$(pwd)"
   ]
  },
  {
   "cell_type": "markdown",
   "id": "b26a2cd2",
   "metadata": {},
   "source": [
    "To make sure the Elasticsearch actually sets the indexes automatically, enter this into the config file ($ES_HOME/config/elasticsearch.yml):"
   ]
  },
  {
   "cell_type": "code",
   "execution_count": 3,
   "id": "6f33a405",
   "metadata": {},
   "outputs": [],
   "source": [
    "#action.auto_create_index: .monitoring*,.watches,.triggered_watches,.watcher-history*,.ml*"
   ]
  },
  {
   "cell_type": "markdown",
   "id": "530f41c0",
   "metadata": {},
   "source": [
    "Then run Elasticsearch with by:"
   ]
  },
  {
   "cell_type": "code",
   "execution_count": null,
   "id": "4369c287",
   "metadata": {},
   "outputs": [],
   "source": [
    "./bin/elasticsearch"
   ]
  },
  {
   "cell_type": "markdown",
   "id": "266f2311",
   "metadata": {},
   "source": [
    "To make sure it works, test it out with:"
   ]
  },
  {
   "cell_type": "code",
   "execution_count": null,
   "id": "2aa0b0e5",
   "metadata": {},
   "outputs": [],
   "source": [
    "curl --cacert $ES_HOME/config/certs/http_ca.crt -u elastic http://localhost:9200"
   ]
  },
  {
   "cell_type": "markdown",
   "id": "66ca61ef",
   "metadata": {},
   "source": [
    "### RUN THESE CELLS"
   ]
  },
  {
   "cell_type": "markdown",
   "id": "9f954658",
   "metadata": {},
   "source": [
    "Import datetime and elasticsearch modules"
   ]
  },
  {
   "cell_type": "code",
   "execution_count": 9,
   "id": "01611dc7",
   "metadata": {},
   "outputs": [],
   "source": [
    "from datetime import datetime\n",
    "from elasticsearch import Elasticsearch"
   ]
  },
  {
   "cell_type": "markdown",
   "id": "84c48102",
   "metadata": {},
   "source": [
    "Initialize the connection"
   ]
  },
  {
   "cell_type": "code",
   "execution_count": 10,
   "id": "37896d27",
   "metadata": {},
   "outputs": [],
   "source": [
    "es = Elasticsearch(\"http://localhost:9200\")"
   ]
  },
  {
   "cell_type": "markdown",
   "id": "c0f1e412",
   "metadata": {},
   "source": [
    "Create a sample documents to store in Elasticsearch"
   ]
  },
  {
   "cell_type": "code",
   "execution_count": 11,
   "id": "0369805c",
   "metadata": {},
   "outputs": [],
   "source": [
    "doc = {\n",
    "    'author': 'Ric',\n",
    "    'text': 'Elasticsearch: Awesome. Very awesome!',\n",
    "    'timestamp': datetime.now()\n",
    "}"
   ]
  },
  {
   "cell_type": "markdown",
   "id": "d685feb0",
   "metadata": {},
   "source": [
    "Then we index the document:"
   ]
  },
  {
   "cell_type": "code",
   "execution_count": 13,
   "id": "dd5a97d6",
   "metadata": {},
   "outputs": [
    {
     "name": "stdout",
     "output_type": "stream",
     "text": [
      "updated\n"
     ]
    },
    {
     "name": "stderr",
     "output_type": "stream",
     "text": [
      "/var/folders/sy/dtck02r93qx2982t9l5d6shw0000gn/T/ipykernel_25029/1813370669.py:1: ElasticsearchWarning: Elasticsearch built-in security features are not enabled. Without authentication, your cluster could be accessible to anyone. See https://www.elastic.co/guide/en/elasticsearch/reference/7.17/security-minimal-setup.html to enable security.\n",
      "  resp = es.index(index=\"test-index\", id=1, document=doc)\n"
     ]
    }
   ],
   "source": [
    "resp = es.index(index=\"test-index\", id=1, document=doc)\n",
    "print(resp['result'])"
   ]
  },
  {
   "cell_type": "markdown",
   "id": "5136ea0d",
   "metadata": {},
   "source": [
    "Then we can easily just 'get' a document with a certain ID from Elasticsearch with:"
   ]
  },
  {
   "cell_type": "code",
   "execution_count": 14,
   "id": "2d8d646b",
   "metadata": {},
   "outputs": [
    {
     "name": "stdout",
     "output_type": "stream",
     "text": [
      "{'author': 'Ric', 'text': 'Elasticsearch: Awesome. Very awesome!', 'timestamp': '2022-10-05T11:48:21.459857'}\n"
     ]
    },
    {
     "name": "stderr",
     "output_type": "stream",
     "text": [
      "/var/folders/sy/dtck02r93qx2982t9l5d6shw0000gn/T/ipykernel_25029/2505316599.py:1: ElasticsearchWarning: Elasticsearch built-in security features are not enabled. Without authentication, your cluster could be accessible to anyone. See https://www.elastic.co/guide/en/elasticsearch/reference/7.17/security-minimal-setup.html to enable security.\n",
      "  resp = es.get(index=\"test-index\", id=1)\n"
     ]
    }
   ],
   "source": [
    "resp = es.get(index=\"test-index\", id=1)\n",
    "print(resp['_source'])"
   ]
  },
  {
   "cell_type": "markdown",
   "id": "306e9d9d",
   "metadata": {},
   "source": [
    "Similarly, you can always update any indexes by:"
   ]
  },
  {
   "cell_type": "code",
   "execution_count": 15,
   "id": "412de226",
   "metadata": {},
   "outputs": [
    {
     "name": "stderr",
     "output_type": "stream",
     "text": [
      "/var/folders/sy/dtck02r93qx2982t9l5d6shw0000gn/T/ipykernel_25029/3750481742.py:1: ElasticsearchWarning: Elasticsearch built-in security features are not enabled. Without authentication, your cluster could be accessible to anyone. See https://www.elastic.co/guide/en/elasticsearch/reference/7.17/security-minimal-setup.html to enable security.\n",
      "  es.indices.refresh(index='test-index')\n"
     ]
    },
    {
     "data": {
      "text/plain": [
       "ObjectApiResponse({'_shards': {'total': 2, 'successful': 1, 'failed': 0}})"
      ]
     },
     "execution_count": 15,
     "metadata": {},
     "output_type": "execute_result"
    }
   ],
   "source": [
    "es.indices.refresh(index='test-index')"
   ]
  },
  {
   "cell_type": "markdown",
   "id": "af7d5027",
   "metadata": {},
   "source": [
    "To make a query towards any one index, you simply use this syntax:"
   ]
  },
  {
   "cell_type": "code",
   "execution_count": 16,
   "id": "c65f667c",
   "metadata": {},
   "outputs": [
    {
     "name": "stderr",
     "output_type": "stream",
     "text": [
      "/var/folders/sy/dtck02r93qx2982t9l5d6shw0000gn/T/ipykernel_25029/1604349197.py:1: ElasticsearchWarning: Elasticsearch built-in security features are not enabled. Without authentication, your cluster could be accessible to anyone. See https://www.elastic.co/guide/en/elasticsearch/reference/7.17/security-minimal-setup.html to enable security.\n",
      "  resp = es.search(index=\"test-index\", query={\"match_all\": {}})\n"
     ]
    }
   ],
   "source": [
    "resp = es.search(index=\"test-index\", query={\"match_all\": {}})"
   ]
  },
  {
   "cell_type": "markdown",
   "id": "c3c09cd5",
   "metadata": {},
   "source": [
    "From which the results can be extracted by:"
   ]
  },
  {
   "cell_type": "code",
   "execution_count": 17,
   "id": "9a6eb713",
   "metadata": {},
   "outputs": [
    {
     "name": "stdout",
     "output_type": "stream",
     "text": [
      "Got 1 hits:\n",
      "2022-10-05T11:48:21.459857 Ric: Elasticsearch: Awesome. Very awesome!\n"
     ]
    }
   ],
   "source": [
    "print(\"Got {} hits:\".format(resp['hits']['total']['value']))\n",
    "for hit in resp['hits']['hits']:\n",
    "    print(\"%(timestamp)s %(author)s: %(text)s\" % hit['_source'])"
   ]
  },
  {
   "cell_type": "code",
   "execution_count": null,
   "id": "a35642db",
   "metadata": {},
   "outputs": [],
   "source": []
  }
 ],
 "metadata": {
  "kernelspec": {
   "display_name": "Python 3 (ipykernel)",
   "language": "python",
   "name": "python3"
  },
  "language_info": {
   "codemirror_mode": {
    "name": "ipython",
    "version": 3
   },
   "file_extension": ".py",
   "mimetype": "text/x-python",
   "name": "python",
   "nbconvert_exporter": "python",
   "pygments_lexer": "ipython3",
   "version": "3.10.5"
  }
 },
 "nbformat": 4,
 "nbformat_minor": 5
}
